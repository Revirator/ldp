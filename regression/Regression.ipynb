{
 "cells": [
  {
   "cell_type": "markdown",
   "metadata": {},
   "source": [
    "## Import modules, packages and libraries"
   ]
  },
  {
   "cell_type": "code",
   "execution_count": 1,
   "metadata": {},
   "outputs": [],
   "source": [
    "import numpy as np\n",
    "import pandas as pd\n",
    "import matplotlib.pyplot as plt\n",
    "\n",
    "# sci-kit learn specifics\n",
    "# We will use the sklearn package to obtain ridge regression and lasso models.\n",
    "from sklearn.linear_model import LogisticRegression, LogisticRegressionCV\n",
    "from sklearn.preprocessing import StandardScaler\n",
    "from sklearn.model_selection import train_test_split, GridSearchCV\n",
    "from sklearn.linear_model import Ridge, RidgeCV, Lasso, LassoCV, ElasticNet, ElasticNetCV\n",
    "from sklearn.metrics import zero_one_loss, confusion_matrix, roc_auc_score, roc_curve, make_scorer"
   ]
  },
  {
   "cell_type": "markdown",
   "metadata": {},
   "source": [
    "## Load the pre-processed `Loan` data set"
   ]
  },
  {
   "cell_type": "code",
   "execution_count": 2,
   "metadata": {},
   "outputs": [],
   "source": [
    "df = pd.read_csv(\"../data/cleaned_data.csv\")"
   ]
  },
  {
   "cell_type": "code",
   "execution_count": 3,
   "metadata": {},
   "outputs": [
    {
     "name": "stdout",
     "output_type": "stream",
     "text": [
      "<class 'pandas.core.frame.DataFrame'>\n",
      "RangeIndex: 146775 entries, 0 to 146774\n",
      "Data columns (total 52 columns):\n",
      " #   Column                 Non-Null Count   Dtype  \n",
      "---  ------                 --------------   -----  \n",
      " 0   loan_amnt              146775 non-null  float64\n",
      " 1   term                   146775 non-null  object \n",
      " 2   int_rate               146775 non-null  float64\n",
      " 3   sub_grade              146775 non-null  object \n",
      " 4   emp_length             146775 non-null  object \n",
      " 5   home_ownership         146775 non-null  object \n",
      " 6   annual_inc             146775 non-null  float64\n",
      " 7   verification_status    146775 non-null  object \n",
      " 8   loan_status            146775 non-null  int64  \n",
      " 9   purpose                146775 non-null  object \n",
      " 10  addr_state             146775 non-null  object \n",
      " 11  dti                    146775 non-null  float64\n",
      " 12  delinq_2yrs            146775 non-null  float64\n",
      " 13  earliest_cr_line       146775 non-null  int64  \n",
      " 14  inq_last_6mths         146775 non-null  float64\n",
      " 15  pub_rec                146775 non-null  float64\n",
      " 16  revol_bal              146775 non-null  float64\n",
      " 17  total_acc              146775 non-null  float64\n",
      " 18  initial_list_status    146775 non-null  object \n",
      " 19  acc_now_delinq         146775 non-null  float64\n",
      " 20  tot_coll_amt           146775 non-null  float64\n",
      " 21  tot_cur_bal            146775 non-null  float64\n",
      " 22  open_acc_6m            146775 non-null  float64\n",
      " 23  open_act_il            146775 non-null  float64\n",
      " 24  open_il_12m            146775 non-null  float64\n",
      " 25  open_il_24m            146775 non-null  float64\n",
      " 26  mths_since_rcnt_il     146775 non-null  float64\n",
      " 27  il_util                146775 non-null  float64\n",
      " 28  open_rv_12m            146775 non-null  float64\n",
      " 29  all_util               146775 non-null  float64\n",
      " 30  inq_fi                 146775 non-null  float64\n",
      " 31  total_cu_tl            146775 non-null  float64\n",
      " 32  inq_last_12m           146775 non-null  float64\n",
      " 33  acc_open_past_24mths   146775 non-null  float64\n",
      " 34  avg_cur_bal            146775 non-null  float64\n",
      " 35  bc_util                146775 non-null  float64\n",
      " 36  mo_sin_old_il_acct     146775 non-null  float64\n",
      " 37  mo_sin_rcnt_rev_tl_op  146775 non-null  float64\n",
      " 38  mo_sin_rcnt_tl         146775 non-null  float64\n",
      " 39  mort_acc               146775 non-null  float64\n",
      " 40  num_actv_bc_tl         146775 non-null  float64\n",
      " 41  num_actv_rev_tl        146775 non-null  float64\n",
      " 42  num_bc_sats            146775 non-null  float64\n",
      " 43  num_bc_tl              146775 non-null  float64\n",
      " 44  num_il_tl              146775 non-null  float64\n",
      " 45  num_rev_accts          146775 non-null  float64\n",
      " 46  num_sats               146775 non-null  float64\n",
      " 47  pct_tl_nvr_dlq         146775 non-null  float64\n",
      " 48  pub_rec_bankruptcies   146775 non-null  float64\n",
      " 49  total_bal_ex_mort      146775 non-null  float64\n",
      " 50  total_bc_limit         146775 non-null  float64\n",
      " 51  fico_range_avg         146775 non-null  float64\n",
      "dtypes: float64(42), int64(2), object(8)\n",
      "memory usage: 58.2+ MB\n"
     ]
    }
   ],
   "source": [
    "df.info()"
   ]
  },
  {
   "attachments": {},
   "cell_type": "markdown",
   "metadata": {},
   "source": [
    "## Recoding the categorical variables"
   ]
  },
  {
   "cell_type": "code",
   "execution_count": 4,
   "metadata": {},
   "outputs": [
    {
     "data": {
      "text/plain": [
       "['term',\n",
       " 'sub_grade',\n",
       " 'emp_length',\n",
       " 'home_ownership',\n",
       " 'verification_status',\n",
       " 'purpose',\n",
       " 'addr_state',\n",
       " 'initial_list_status']"
      ]
     },
     "execution_count": 4,
     "metadata": {},
     "output_type": "execute_result"
    }
   ],
   "source": [
    "# generate list of remaining categorical features\n",
    "obcols = list(df.columns[df.dtypes == 'object'])\n",
    "obcols"
   ]
  },
  {
   "cell_type": "code",
   "execution_count": 5,
   "metadata": {},
   "outputs": [
    {
     "name": "stdout",
     "output_type": "stream",
     "text": [
      " 36 months    116160\n",
      " 60 months     30615\n",
      "Name: term, dtype: int64\n",
      "B5    10375\n",
      "C1    10346\n",
      "B4     9599\n",
      "C2     8870\n",
      "B3     8696\n",
      "C4     8370\n",
      "C3     8223\n",
      "B2     7960\n",
      "B1     7917\n",
      "C5     7561\n",
      "A1     6740\n",
      "A5     5560\n",
      "D1     5263\n",
      "A4     5002\n",
      "D2     4941\n",
      "A2     3729\n",
      "D3     3687\n",
      "D4     3603\n",
      "A3     3530\n",
      "D5     2908\n",
      "E1     2670\n",
      "E3     1866\n",
      "E2     1847\n",
      "E4     1610\n",
      "E5     1371\n",
      "F1     1064\n",
      "F2      812\n",
      "F3      612\n",
      "F4      552\n",
      "F5      474\n",
      "G1      314\n",
      "G2      246\n",
      "G3      198\n",
      "G4      145\n",
      "G5      114\n",
      "Name: sub_grade, dtype: int64\n",
      "10+ years    49623\n",
      "< 1 year     20606\n",
      "2 years      13661\n",
      "3 years      12009\n",
      "1 year       10076\n",
      "5 years       9018\n",
      "4 years       8743\n",
      "8 years       6421\n",
      "6 years       6127\n",
      "9 years       5738\n",
      "7 years       4753\n",
      "Name: emp_length, dtype: int64\n",
      "MORTGAGE    71423\n",
      "RENT        57610\n",
      "OWN         17708\n",
      "ANY            34\n",
      "Name: home_ownership, dtype: int64\n",
      "Source Verified    61685\n",
      "Verified           43156\n",
      "Not Verified       41934\n",
      "Name: verification_status, dtype: int64\n",
      "debt_consolidation    84800\n",
      "credit_card           30434\n",
      "home_improvement      10491\n",
      "other                  9496\n",
      "major_purchase         3524\n",
      "medical                1794\n",
      "small_business         1631\n",
      "car                    1573\n",
      "moving                 1130\n",
      "vacation               1042\n",
      "house                   759\n",
      "renewable_energy        101\n",
      "Name: purpose, dtype: int64\n",
      "CA    20502\n",
      "TX    12517\n",
      "NY    11624\n",
      "FL    10764\n",
      "IL     5613\n",
      "NJ     5135\n",
      "OH     5004\n",
      "GA     4749\n",
      "PA     4730\n",
      "NC     4263\n",
      "MI     3926\n",
      "VA     3882\n",
      "AZ     3720\n",
      "MA     3319\n",
      "MD     3318\n",
      "CO     3177\n",
      "WA     2957\n",
      "IN     2629\n",
      "MN     2608\n",
      "TN     2472\n",
      "MO     2306\n",
      "NV     2233\n",
      "CT     2090\n",
      "WI     1987\n",
      "AL     1755\n",
      "SC     1742\n",
      "LA     1642\n",
      "OR     1613\n",
      "KY     1394\n",
      "OK     1382\n",
      "KS     1171\n",
      "AR     1132\n",
      "UT     1068\n",
      "MS      931\n",
      "NM      798\n",
      "NE      717\n",
      "NH      706\n",
      "HI      692\n",
      "RI      623\n",
      "ME      430\n",
      "ID      424\n",
      "DE      416\n",
      "MT      381\n",
      "ND      370\n",
      "DC      332\n",
      "AK      326\n",
      "WY      326\n",
      "SD      308\n",
      "VT      287\n",
      "WV      284\n",
      "Name: addr_state, dtype: int64\n",
      "w    112140\n",
      "f     34635\n",
      "Name: initial_list_status, dtype: int64\n"
     ]
    }
   ],
   "source": [
    "for col in obcols:\n",
    "    print(df[col].value_counts())"
   ]
  },
  {
   "cell_type": "code",
   "execution_count": 6,
   "metadata": {},
   "outputs": [
    {
     "data": {
      "text/plain": [
       "Index(['loan_amnt', 'term', 'int_rate', 'sub_grade', 'emp_length',\n",
       "       'annual_inc', 'loan_status', 'dti', 'delinq_2yrs', 'earliest_cr_line',\n",
       "       ...\n",
       "       'SD', 'TN', 'TX', 'UT', 'VA', 'VT', 'WA', 'WI', 'WV', 'WY'],\n",
       "      dtype='object', length=117)"
      ]
     },
     "execution_count": 6,
     "metadata": {},
     "output_type": "execute_result"
    }
   ],
   "source": [
    "# convert term to int (either 36 or 60)\n",
    "df['term'] = list(map(lambda t: int(str(t)[0:3]), df['term']))\n",
    "\n",
    "\n",
    "# emp_length map from 0 to 10 (< 1 -> 0 and 10+ -> 10)\n",
    "def map_emp_length(emp_length):\n",
    "    temp = str(emp_length)[0:2]\n",
    "    if temp == '< ':\n",
    "        temp = '0'\n",
    "    if temp == 'na':\n",
    "        temp = '0'\n",
    "    return int(temp)\n",
    "\n",
    "\n",
    "df['emp_length'] = list(map(map_emp_length, df['emp_length']))\n",
    "\n",
    "# convert initial_list_status to numerical (dummy) values\n",
    "mapping_dictionary = {'initial_list_status': {'w': 1, 'f': 0}}\n",
    "df = df.replace(mapping_dictionary)\n",
    "\n",
    "# convert home_ownership using one-hot encoding\n",
    "home_encoding = pd.get_dummies(df['home_ownership'])\n",
    "df = pd.concat([df, home_encoding], axis=1)\n",
    "df.drop('home_ownership', axis=1, inplace=True)\n",
    "\n",
    "# convert verification_status using one-hot encoding\n",
    "verification_status = pd.get_dummies(df['verification_status'])\n",
    "df = pd.concat([df, verification_status], axis=1)\n",
    "df.drop('verification_status', axis=1, inplace=True)\n",
    "\n",
    "# convert purpose using one-hot encoding\n",
    "purpose = pd.get_dummies(df['purpose'])\n",
    "df = pd.concat([df, purpose], axis=1)\n",
    "df.drop('purpose', axis=1, inplace=True)\n",
    "\n",
    "# convert sub_grade using consecutive integers\n",
    "# (as there is a ranking between the values G5 -> A1)\n",
    "mapping = {'A': 0, 'B': 5, 'C': 10, 'D': 15, 'E': 20, 'F': 25, 'G': 30}\n",
    "df['sub_grade'] = list(map(lambda t: mapping[t[0]] + int(t[1]), df['sub_grade']))\n",
    "\n",
    "# convert addr_state using one-hot encoding\n",
    "addr_state = pd.get_dummies(df['addr_state'])\n",
    "df = pd.concat([df, addr_state], axis=1)\n",
    "df.drop('addr_state', axis=1, inplace=True)\n",
    "\n",
    "df.columns"
   ]
  },
  {
   "cell_type": "markdown",
   "metadata": {
    "collapsed": false
   },
   "source": [
    "# Save the updated data set"
   ]
  },
  {
   "cell_type": "code",
   "execution_count": 7,
   "metadata": {
    "collapsed": false
   },
   "outputs": [],
   "source": [
    "df.to_csv(\"numerical_data.csv\")"
   ]
  },
  {
   "cell_type": "markdown",
   "metadata": {
    "collapsed": false
   },
   "source": [
    "## Scale the data"
   ]
  },
  {
   "cell_type": "code",
   "execution_count": 8,
   "metadata": {
    "collapsed": false
   },
   "outputs": [],
   "source": [
    "# drop 60% of the paid out loans so that there is\n",
    "# a balance between them and the default ones\n",
    "# drop_paid_out_loans = df[df['loan_status'] == 1]\n",
    "# subset_paid_out_loans = drop_paid_out_loans.sample(frac=0.6)\n",
    "# df = df.drop(subset_paid_out_loans.index)\n",
    "# df.shape"
   ]
  },
  {
   "cell_type": "code",
   "execution_count": 9,
   "metadata": {
    "collapsed": false
   },
   "outputs": [
    {
     "data": {
      "text/plain": [
       "(146775, 117)"
      ]
     },
     "execution_count": 9,
     "metadata": {},
     "output_type": "execute_result"
    }
   ],
   "source": [
    "numerical_cols = list(df.select_dtypes(include=['int64', 'float64']).columns)\n",
    "numerical_cols.remove(\"loan_status\")\n",
    "\n",
    "scaler = StandardScaler()\n",
    "scaler.fit(df[numerical_cols])\n",
    "df[numerical_cols] = scaler.transform(df[numerical_cols])\n",
    "df.shape"
   ]
  },
  {
   "cell_type": "markdown",
   "metadata": {},
   "source": [
    "## Split the data set into training and test set"
   ]
  },
  {
   "cell_type": "code",
   "execution_count": 10,
   "metadata": {},
   "outputs": [
    {
     "data": {
      "text/plain": [
       "1    76.552546\n",
       "0    23.447454\n",
       "Name: loan_status, dtype: float64"
      ]
     },
     "execution_count": 10,
     "metadata": {},
     "output_type": "execute_result"
    }
   ],
   "source": [
    "# get \"loan status\"\n",
    "y = df[\"loan_status\"]\n",
    "# drop \"loan status\"\n",
    "df.drop(\"loan_status\", axis=1, inplace=True)\n",
    "\n",
    "# split data into training and test sets (80% - 20%)\n",
    "x_train, x_test, y_train, y_test = train_test_split(df, y, test_size=0.2, random_state=1)\n",
    "freq = y_test.value_counts()\n",
    "freq / sum(freq) * 100"
   ]
  },
  {
   "cell_type": "markdown",
   "metadata": {},
   "source": [
    "## Cross validation to find optimal hyper parameters"
   ]
  },
  {
   "cell_type": "code",
   "execution_count": 11,
   "metadata": {},
   "outputs": [],
   "source": [
    "# Helper functions\n",
    "def map_predictions(predictions, threshold):\n",
    "    result = []\n",
    "    for p in predictions:\n",
    "        if p >= threshold:\n",
    "            result.append(1)\n",
    "        else:\n",
    "            result.append(0)\n",
    "    return result"
   ]
  },
  {
   "cell_type": "code",
   "execution_count": 12,
   "metadata": {},
   "outputs": [
    {
     "name": "stdout",
     "output_type": "stream",
     "text": [
      "Optimal alpha (lasso): 0.0001\n"
     ]
    },
    {
     "data": {
      "image/png": "[encoded data removed]",
      "text/plain": [
       "<Figure size 640x480 with 1 Axes>"
      ]
     },
     "metadata": {},
     "output_type": "display_data"
    }
   ],
   "source": [
    "# Lasso\n",
    "alphas = np.logspace(-4, -0.5, 20)\n",
    "lasso = Lasso()\n",
    "grid_search = GridSearchCV(estimator=lasso,\n",
    "                           param_grid={'alpha': alphas},\n",
    "                           cv=5,\n",
    "                           scoring=make_scorer(roc_auc_score, greater_is_better=True))\n",
    "grid_search.fit(x_train, y_train)\n",
    "\n",
    "alpha_lasso = grid_search.best_params_['alpha']\n",
    "print(f\"Optimal alpha (lasso): {alpha_lasso}\")\n",
    "\n",
    "plt.plot(alphas, 1 - grid_search.cv_results_['mean_test_score'])\n",
    "plt.scatter(alpha_lasso, 1 - grid_search.cv_results_['mean_test_score'][np.where(alphas == alpha_lasso)],\n",
    "            color='orange', marker='x')\n",
    "plt.title(\"Misclassification rate for different values of alpha\")\n",
    "plt.xlabel(\"Alpha\")\n",
    "plt.ylabel(\"Misclassification rate\")\n",
    "plt.show()"
   ]
  },
  {
   "cell_type": "code",
   "execution_count": 13,
   "metadata": {},
   "outputs": [
    {
     "name": "stdout",
     "output_type": "stream",
     "text": [
      "Optimal lambda (ridge): 145.63484775012444\n"
     ]
    },
    {
     "data": {
      "image/png": "[encoded data removed]",
      "text/plain": [
       "<Figure size 640x480 with 1 Axes>"
      ]
     },
     "metadata": {},
     "output_type": "display_data"
    }
   ],
   "source": [
    "# Ridge\n",
    "lambdas = np.logspace(-2, 4, 50)\n",
    "ridge = Ridge()\n",
    "grid_search = GridSearchCV(estimator=ridge,\n",
    "                           param_grid={'alpha': lambdas},\n",
    "                           cv=5,\n",
    "                           scoring=make_scorer(roc_auc_score, greater_is_better=True))\n",
    "grid_search.fit(x_train, y_train)\n",
    "\n",
    "lambda_ridge = grid_search.best_params_['alpha']\n",
    "print(f\"Optimal lambda (ridge): {lambda_ridge}\")\n",
    "\n",
    "plt.plot(lambdas, 1 - grid_search.cv_results_['mean_test_score'])\n",
    "plt.scatter(lambda_ridge, 1 - grid_search.cv_results_['mean_test_score'][np.where(lambdas == lambda_ridge)],\n",
    "            color='orange', marker='x')\n",
    "plt.title(\"Misclassification rate for different values of lambda\")\n",
    "plt.xlabel(\"Lambda\")\n",
    "plt.ylabel(\"Misclassification rate\")\n",
    "plt.show()"
   ]
  },
  {
   "attachments": {},
   "cell_type": "markdown",
   "metadata": {},
   "source": [
    "## Train the actual models using the optimized hyper parameters and pick optimal threshold"
   ]
  },
  {
   "cell_type": "code",
   "execution_count": 17,
   "metadata": {},
   "outputs": [
    {
     "name": "stdout",
     "output_type": "stream",
     "text": [
      "Optimal l1 ratio: 0.9\n",
      "Optimal alpha (elastic): 0.00013553966289060556\n"
     ]
    }
   ],
   "source": [
    "# Lasso\n",
    "lasso = Lasso(alpha=alpha_lasso)\n",
    "lasso.fit(x_train, y_train)\n",
    "y_pred_lasso = lasso.predict(x_test)\n",
    "# Ridge\n",
    "ridge = Ridge(alpha=lambda_ridge)\n",
    "ridge.fit(x_train, y_train)\n",
    "y_pred_ridge = ridge.predict(x_test)\n",
    "# Elastic net\n",
    "model = ElasticNetCV(l1_ratio=[0.1, 0.3, 0.5, 0.7, 0.9], n_alphas=20, cv=5)\n",
    "model.fit(x_train, y_train)\n",
    "print(f\"Optimal l1 ratio: {model.l1_ratio_}\")\n",
    "print(f\"Optimal alpha (elastic): {model.alpha_}\")\n",
    "elastic = ElasticNet(alpha=model.alpha_)\n",
    "elastic.fit(x_train, y_train)\n",
    "y_pred_elastic = elastic.predict(x_test)"
   ]
  },
  {
   "cell_type": "code",
   "execution_count": 15,
   "metadata": {},
   "outputs": [
    {
     "name": "stdout",
     "output_type": "stream",
     "text": [
      "Index(['small_business', 'int_rate', 'OR', 'LA', 'AL', 'AR', 'CO', 'UT', 'MD',\n",
      "       'term', 'WA', 'RENT', 'CT', 'num_actv_rev_tl', 'DC', 'NH', 'ME',\n",
      "       'medical', 'OK', 'MS', 'num_rev_accts'],\n",
      "      dtype='object')\n",
      "Index(['small_business', 'int_rate', 'LA', 'AL', 'AR', 'OR', 'MD', 'DC', 'UT',\n",
      "       'ME', 'VT', 'CO', 'MS', 'term', 'OK', 'num_rev_accts', 'NH', 'WA', 'ND',\n",
      "       'CT', 'num_actv_rev_tl'],\n",
      "      dtype='object')\n",
      "Index(['small_business', 'int_rate', 'OR', 'LA', 'AL', 'AR', 'UT', 'CO', 'DC',\n",
      "       'MD', 'term', 'ME', 'WA', 'CT', 'NH', 'VT', 'RENT', 'num_actv_rev_tl',\n",
      "       'MS', 'medical', 'OK'],\n",
      "      dtype='object')\n"
     ]
    }
   ],
   "source": [
    "print(x_train.columns[np.argsort(np.abs(lasso.coef_))[::-1][:21]])\n",
    "print(x_train.columns[np.argsort(np.abs(ridge.coef_))[::-1][:21]])\n",
    "print(x_train.columns[np.argsort(np.abs(elastic.coef_))[::-1][:21]])"
   ]
  },
  {
   "cell_type": "code",
   "execution_count": 16,
   "metadata": {},
   "outputs": [
    {
     "name": "stdout",
     "output_type": "stream",
     "text": [
      "Threshold: 0.1\n",
      "Confusion matrix (lasso):\n",
      "[[ 0.   23.45]\n",
      " [ 0.   76.55]]\n",
      "Threshold: 0.1\n",
      "Confusion matrix (ridge):\n",
      "[[ 0.   23.45]\n",
      " [ 0.   76.55]]\n",
      "Threshold: 0.1\n",
      "Confusion matrix (elastic):\n",
      "[[ 0.   23.45]\n",
      " [ 0.   76.55]]\n",
      "Threshold: 0.2\n",
      "Confusion matrix (lasso):\n",
      "[[0.000e+00 2.345e+01]\n",
      " [1.000e-02 7.655e+01]]\n",
      "Threshold: 0.2\n",
      "Confusion matrix (ridge):\n",
      "[[0.000e+00 2.345e+01]\n",
      " [1.000e-02 7.654e+01]]\n",
      "Threshold: 0.2\n",
      "Confusion matrix (elastic):\n",
      "[[0.000e+00 2.345e+01]\n",
      " [1.000e-02 7.655e+01]]\n",
      "Threshold: 0.3\n",
      "Confusion matrix (lasso):\n",
      "[[4.000e-02 2.341e+01]\n",
      " [4.000e-02 7.651e+01]]\n",
      "Threshold: 0.3\n",
      "Confusion matrix (ridge):\n",
      "[[4.000e-02 2.341e+01]\n",
      " [4.000e-02 7.651e+01]]\n",
      "Threshold: 0.3\n",
      "Confusion matrix (elastic):\n",
      "[[4.000e-02 2.341e+01]\n",
      " [4.000e-02 7.652e+01]]\n",
      "Threshold: 0.4\n",
      "Confusion matrix (lasso):\n",
      "[[ 0.55 22.9 ]\n",
      " [ 0.35 76.2 ]]\n",
      "Threshold: 0.4\n",
      "Confusion matrix (ridge):\n",
      "[[ 0.56 22.89]\n",
      " [ 0.35 76.2 ]]\n",
      "Threshold: 0.4\n",
      "Confusion matrix (elastic):\n",
      "[[ 0.55 22.9 ]\n",
      " [ 0.35 76.2 ]]\n",
      "Threshold: 0.5\n",
      "Confusion matrix (lasso):\n",
      "[[ 2.26 21.19]\n",
      " [ 1.68 74.87]]\n",
      "Threshold: 0.5\n",
      "Confusion matrix (ridge):\n",
      "[[ 2.28 21.17]\n",
      " [ 1.66 74.89]]\n",
      "Threshold: 0.5\n",
      "Confusion matrix (elastic):\n",
      "[[ 2.27 21.18]\n",
      " [ 1.66 74.89]]\n",
      "Threshold: 0.6\n",
      "Confusion matrix (lasso):\n",
      "[[ 5.9  17.54]\n",
      " [ 6.05 70.51]]\n",
      "Threshold: 0.6\n",
      "Confusion matrix (ridge):\n",
      "[[ 5.9  17.54]\n",
      " [ 6.04 70.51]]\n",
      "Threshold: 0.6\n",
      "Confusion matrix (elastic):\n",
      "[[ 5.9  17.54]\n",
      " [ 6.06 70.5 ]]\n",
      "Threshold: 0.7\n",
      "Confusion matrix (lasso):\n",
      "[[11.95 11.5 ]\n",
      " [17.06 59.5 ]]\n",
      "Threshold: 0.7\n",
      "Confusion matrix (ridge):\n",
      "[[12.07 11.38]\n",
      " [17.19 59.36]]\n",
      "Threshold: 0.7\n",
      "Confusion matrix (elastic):\n",
      "[[11.99 11.45]\n",
      " [17.14 59.41]]\n",
      "Threshold: 0.8\n",
      "Confusion matrix (lasso):\n",
      "[[18.93  4.52]\n",
      " [38.95 37.6 ]]\n",
      "Threshold: 0.8\n",
      "Confusion matrix (ridge):\n",
      "[[18.92  4.53]\n",
      " [39.01 37.54]]\n",
      "Threshold: 0.8\n",
      "Confusion matrix (elastic):\n",
      "[[18.92  4.53]\n",
      " [38.94 37.62]]\n",
      "Threshold: 0.9\n",
      "Confusion matrix (lasso):\n",
      "[[22.52  0.93]\n",
      " [61.43 15.12]]\n",
      "Threshold: 0.9\n",
      "Confusion matrix (ridge):\n",
      "[[22.5   0.94]\n",
      " [61.28 15.27]]\n",
      "Threshold: 0.9\n",
      "Confusion matrix (elastic):\n",
      "[[22.52  0.93]\n",
      " [61.36 15.19]]\n"
     ]
    },
    {
     "data": {
      "image/png": "[encoded data removed]",
      "text/plain": [
       "<Figure size 640x480 with 1 Axes>"
      ]
     },
     "metadata": {},
     "output_type": "display_data"
    },
    {
     "name": "stdout",
     "output_type": "stream",
     "text": [
      "AUC (lasso): 0.7168872318263451\n",
      "AUC (ridge): 0.7169864723127188\n",
      "AUC (elastic): 0.7169696046626245\n"
     ]
    }
   ],
   "source": [
    "thresholds = [0.1, 0.2, 0.3, 0.4, 0.5, 0.6, 0.7, 0.8, 0.9]\n",
    "\n",
    "for threshold in thresholds:\n",
    "    conf_lasso = np.around((confusion_matrix(y_test, map_predictions(y_pred_lasso, threshold)) / len(y_test)) * 100, 2)\n",
    "    print(\"Threshold:\", threshold)\n",
    "    print(\"Confusion matrix (lasso):\")\n",
    "    print(conf_lasso)\n",
    "\n",
    "    conf_ridge = np.around((confusion_matrix(y_test, map_predictions(y_pred_ridge, threshold)) / len(y_test)) * 100, 2)\n",
    "    print(\"Threshold:\", threshold)\n",
    "    print(\"Confusion matrix (ridge):\")\n",
    "    print(conf_ridge)\n",
    "\n",
    "    conf_elastic = np.around((confusion_matrix(y_test, map_predictions(y_pred_elastic, threshold)) / len(y_test)) * 100,\n",
    "                             2)\n",
    "    print(\"Threshold:\", threshold)\n",
    "    print(\"Confusion matrix (elastic):\")\n",
    "    print(conf_elastic)\n",
    "\n",
    "fp_lasso, tp_lasso, _ = roc_curve(y_test, y_pred_lasso)\n",
    "fp_ridge, tp_ridge, _ = roc_curve(y_test, y_pred_ridge)\n",
    "fp_elastic, tp_elastic, _ = roc_curve(y_test, y_pred_elastic)\n",
    "\n",
    "plt.plot(fp_lasso, tp_lasso, label='Lasso')\n",
    "plt.plot(fp_ridge, tp_ridge, label='Ridge')\n",
    "plt.plot(fp_elastic, tp_elastic, label='Elastic')\n",
    "plt.plot([0, 1], [0, 1], linestyle='--', label='Random')\n",
    "plt.xlabel('False Positive Rate')\n",
    "plt.ylabel('True Positive Rate')\n",
    "plt.title('ROC Curves')\n",
    "plt.legend()\n",
    "plt.show()\n",
    "\n",
    "auc = roc_auc_score(y_test, y_pred_lasso)\n",
    "print(\"AUC (lasso):\", auc)\n",
    "\n",
    "auc = roc_auc_score(y_test, y_pred_ridge)\n",
    "print(\"AUC (ridge):\", auc)\n",
    "\n",
    "auc = roc_auc_score(y_test, y_pred_elastic)\n",
    "print(\"AUC (elastic):\", auc)"
   ]
  }
 ],
 "metadata": {
  "kernelspec": {
   "display_name": "Python 3",
   "language": "python",
   "name": "python3"
  },
  "language_info": {
   "codemirror_mode": {
    "name": "ipython",
    "version": 3
   },
   "file_extension": ".py",
   "mimetype": "text/x-python",
   "name": "python",
   "nbconvert_exporter": "python",
   "pygments_lexer": "ipython3",
   "version": "3.10.6"
  },
  "vscode": {
   "interpreter": {
    "hash": "916dbcbb3f70747c44a77c7bcd40155683ae19c65e1c03b4aa3499c5328201f1"
   }
  }
 },
 "nbformat": 4,
 "nbformat_minor": 2
}
